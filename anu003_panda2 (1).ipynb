{
 "cells": [
  {
   "cell_type": "code",
   "execution_count": 3,
   "id": "c91e546d",
   "metadata": {},
   "outputs": [
    {
     "name": "stdout",
     "output_type": "stream",
     "text": [
      "DataFrame apply function:\n",
      "\n",
      "\n",
      " Original DataFrame:\n",
      "    S  R\n",
      "0  3  9\n",
      "1  3  9\n",
      "2  3  9\n",
      "3  3  9\n",
      "\n",
      " Square root of DataFrame:\n",
      "           S    R\n",
      "0  1.732051  3.0\n",
      "1  1.732051  3.0\n",
      "2  1.732051  3.0\n",
      "3  1.732051  3.0\n",
      "\n",
      " Sum of each column:\n",
      " S    12\n",
      "R    36\n",
      "dtype: int64\n",
      "\n",
      " Sum of each row:\n",
      " 0    12\n",
      "1    12\n",
      "2    12\n",
      "3    12\n",
      "dtype: int64\n"
     ]
    }
   ],
   "source": [
    "import pandas as pd \n",
    "import numpy as np\n",
    "print(\"DataFrame apply function:\\n\")\n",
    "info=pd.DataFrame([[3,9]]*4,columns=['S','R'])\n",
    "print(\"\\n Original DataFrame:\\n\",info)\n",
    "print(\"\\n Square root of DataFrame:\\n\",info.apply(np.sqrt))\n",
    "print(\"\\n Sum of each column:\\n\",info.apply(np.sum,axis=0))\n",
    "print(\"\\n Sum of each row:\\n\",info.apply(np.sum,axis=1))"
   ]
  },
  {
   "cell_type": "code",
   "execution_count": 14,
   "id": "38c98778",
   "metadata": {},
   "outputs": [
    {
     "name": "stdout",
     "output_type": "stream",
     "text": [
      "Original DataFrame:\n",
      "    0  1  2\n",
      "0  2  4  6\n",
      "1  1  3  5\n",
      "2  5  8  7\n",
      "\n",
      "Minimum & Maximum of each column:\n",
      "\n",
      "     0  1  2\n",
      "min  1  3  5\n",
      "max  5  8  7\n",
      "\n",
      "      0   1\n",
      "0  Sai  88\n",
      "1  Poo  70\n",
      "\n",
      "      0   1  Age\n",
      "0  Sai  88   20\n",
      "1  Poo  70   18\n",
      "\n",
      "      0   1  Age   Sex\n",
      "0  Sai  88   20  Male\n",
      "1  Poo  70   18  Male\n"
     ]
    }
   ],
   "source": [
    "import pandas as pd\n",
    "info=pd.DataFrame([[2,4,6],[1,3,5],[5,8,7]])\n",
    "col=['X','Y','Z']\n",
    "print(\"Original DataFrame:\\n\",info)\n",
    "print(\"\\nMinimum & Maximum of each column:\\n\")\n",
    "print(info.agg(['min','max']))\n",
    "d2=pd.DataFrame([['Sai',88],['Poo',70]])\n",
    "column=['Emp','Id']\n",
    "print(\"\\n\",d2)\n",
    "#adding a new column\n",
    "d2['Age']=[20,18]\n",
    "print(\"\\n\",d2)\n",
    "d=d2.assign(Sex=['Male','Male'])\n",
    "print(\"\\n\",d)"
   ]
  },
  {
   "cell_type": "code",
   "execution_count": 23,
   "id": "9142e80b",
   "metadata": {},
   "outputs": [
    {
     "name": "stdout",
     "output_type": "stream",
     "text": [
      "       col3      col4\n",
      "3  0.432156  0.000427\n",
      "2  0.644777  0.794082\n",
      "0 -1.309884  0.604997\n",
      "4 -0.267382 -2.368931\n",
      "1 -0.961723  0.890056\n",
      "       col3      col4\n",
      "0 -1.309884  0.604997\n",
      "1 -0.961723  0.890056\n",
      "2  0.644777  0.794082\n",
      "3  0.432156  0.000427\n",
      "4 -0.267382 -2.368931\n",
      "       col3      col4\n",
      "0 -1.309884  0.604997\n",
      "1 -0.961723  0.890056\n",
      "4 -0.267382 -2.368931\n",
      "3  0.432156  0.000427\n",
      "2  0.644777  0.794082\n"
     ]
    }
   ],
   "source": [
    "#Sorting\n",
    "import numpy as np\n",
    "info=pd.DataFrame(np.random.randn(5,2),index=[3,2,0,4,1],columns=['col3','col4'])\n",
    "print(info)\n",
    "info2=info.sort_index()\n",
    "print(info2)\n",
    "info3=info.sort_values(by='col3')\n",
    "print(info3)"
   ]
  },
  {
   "cell_type": "code",
   "execution_count": 25,
   "id": "893378c2",
   "metadata": {},
   "outputs": [
    {
     "name": "stdout",
     "output_type": "stream",
     "text": [
      "   id   Name_x Sub_x   Name_y Sub_y\n",
      "0   1      Anu  Sub1  kailash  Sub5\n",
      "1   2    Johan  Sub2   Harish  Sub6\n",
      "2   3  Aravind  Sub3    Fahim  Sub7\n",
      "3   4    Arjun  Sub4   Joshua  Sub8\n"
     ]
    }
   ],
   "source": [
    "left=pd.DataFrame({'id':[1,2,3,4],'Name':['Anu','Johan','Aravind','Arjun'],'Sub':['Sub1','Sub2','Sub3','Sub4']})\n",
    "right=pd.DataFrame({'id':[1,2,3,4],'Name':['kailash','Harish','Fahim','Joshua'],'Sub':['Sub5','Sub6','Sub7','Sub8']})\n",
    "print(pd.merge(left,right,on=\"id\"))"
   ]
  },
  {
   "cell_type": "code",
   "execution_count": null,
   "id": "5c1a9d4a",
   "metadata": {},
   "outputs": [],
   "source": []
  }
 ],
 "metadata": {
  "kernelspec": {
   "display_name": "Python 3 (ipykernel)",
   "language": "python",
   "name": "python3"
  },
  "language_info": {
   "codemirror_mode": {
    "name": "ipython",
    "version": 3
   },
   "file_extension": ".py",
   "mimetype": "text/x-python",
   "name": "python",
   "nbconvert_exporter": "python",
   "pygments_lexer": "ipython3",
   "version": "3.11.5"
  }
 },
 "nbformat": 4,
 "nbformat_minor": 5
}
